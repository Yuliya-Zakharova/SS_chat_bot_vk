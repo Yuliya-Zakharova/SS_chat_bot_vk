{
 "cells": [
  {
   "cell_type": "code",
   "execution_count": 1,
   "id": "6b28e6db",
   "metadata": {},
   "outputs": [],
   "source": [
    "import vk_api, json\n",
    "from vk_api.longpoll import VkLongPoll, VkEventType\n",
    "from vk_api.keyboard import VkKeyboard, VkKeyboardColor\n",
    "from vk_api.bot_longpoll import VkBotLongPoll, VkBotEventType\n",
    "import requests\n",
    "import sqlite3\n",
    "from collections import defaultdict\n",
    "from vk_api.utils import get_random_id"
   ]
  },
  {
   "cell_type": "code",
   "execution_count": 2,
   "id": "a217379e",
   "metadata": {},
   "outputs": [],
   "source": [
    "token = '9d662b711c8bb91e64dbafc5cb5088218eab3b578758d4a2c878b4e2ce11d8a6e3bc869d65ab99708e1ef'\n",
    "group_id = '201615991'\n",
    "version = '5.103'\n",
    "group_name_short = 'bec204'"
   ]
  },
  {
   "cell_type": "code",
   "execution_count": 3,
   "id": "4684148e",
   "metadata": {},
   "outputs": [],
   "source": [
    "session = vk_api.VkApi(token=token)\n",
    "longpoll = VkBotLongPoll(session, group_id)"
   ]
  },
  {
   "cell_type": "code",
   "execution_count": 4,
   "id": "ee81a6df",
   "metadata": {},
   "outputs": [],
   "source": [
    "def send_message_to_user (user_id, peer_id, message, keyboard=None): #сделать проще!\n",
    "    post = {\n",
    "        \"user_id\": user_id,\n",
    "        \"random_id\": get_random_id(),\n",
    "        \"peer_id\": peer_id,\n",
    "        \"message\": message,\n",
    "        \"random_id\": 0\n",
    "    }\n",
    "    if keyboard != None:\n",
    "        post = {\n",
    "        \"user_id\": user_id,\n",
    "        \"random_id\": get_random_id(),\n",
    "        \"peer_id\": peer_id,\n",
    "        \"message\": message,\n",
    "        \"random_id\": 0,\n",
    "        \"keyboard\" : keyboard.get_keyboard()\n",
    "        }\n",
    "    session.method('messages.send', post)"
   ]
  },
  {
   "cell_type": "code",
   "execution_count": 5,
   "id": "e4aaf2ba",
   "metadata": {},
   "outputs": [],
   "source": [
    "def send_message_to_chat (chat_id, peer_id, message, keyboard=None): #сделать проще!\n",
    "    post = {\n",
    "        \"chat_id\": chat_id,\n",
    "        \"random_id\": get_random_id(),\n",
    "        \"peer_id\": peer_id,\n",
    "        \"message\": message,\n",
    "        \"random_id\": 0\n",
    "    }\n",
    "    if keyboard != None:\n",
    "        post = {\n",
    "        \"chat\": chat_id,\n",
    "        \"random_id\": get_random_id(),\n",
    "        \"peer_id\": peer_id,\n",
    "        \"message\": message,\n",
    "        \"random_id\": 0,\n",
    "        \"keyboard\" : keyboard.get_keyboard()\n",
    "        }\n",
    "    session.method('messages.send', post)"
   ]
  },
  {
   "cell_type": "code",
   "execution_count": 6,
   "id": "d2044b5e",
   "metadata": {},
   "outputs": [],
   "source": [
    "def get_conversations(offset, count, filt):\n",
    "    post = {\n",
    "        \"offset\": offset,\n",
    "        \"count\": count,\n",
    "        \"filter\": filt\n",
    "    }\n",
    "    session.method(\"messages.getConversations\", post)"
   ]
  },
  {
   "cell_type": "code",
   "execution_count": 7,
   "id": "772afb83",
   "metadata": {},
   "outputs": [],
   "source": [
    "def get_Conversations (peer_ids): \n",
    "    post = {\n",
    "        \"peer_ids\": peer_ids\n",
    "    }\n",
    "    session.method(\"messages.getConversations\", post)"
   ]
  },
  {
   "cell_type": "code",
   "execution_count": 8,
   "id": "97a05735",
   "metadata": {},
   "outputs": [],
   "source": [
    "def vk_download(method, parameters, fields=''):\n",
    "    url = 'https://api.vk.com/method/' + method + '?' + parameters + '&fields=' + fields + '&access_token=' + token + '&v=' + version\n",
    "    response = requests.get(url)\n",
    "    infa = response.json()\n",
    "    return infa"
   ]
  },
  {
   "cell_type": "code",
   "execution_count": 9,
   "id": "31e65989",
   "metadata": {},
   "outputs": [],
   "source": [
    "# подключаем базу данных\n",
    "conn = sqlite3.connect('chats.db')\n",
    "\n",
    "# курсор для работы с таблицами\n",
    "cursor = conn.cursor()\n",
    "\n",
    "try:\n",
    "    # sql запрос для создания таблицы\n",
    "    query = \"CREATE TABLE \\\"chats\\\" (\\\"ID\\\" INTEGER UNIQUE, \\\"group\\\" TEXT, PRIMARY KEY (\\\"ID\\\"))\"\n",
    "    # исполняем его –> ура, теперь у нас есть таблица, куда будем все сохранять!\n",
    "    cursor.execute(query)\n",
    "except:\n",
    "    pass"
   ]
  },
  {
   "cell_type": "code",
   "execution_count": 10,
   "id": "86f2717c",
   "metadata": {},
   "outputs": [],
   "source": [
    "#добавить группу в БД\n",
    "def add_group(chat_id, group):\n",
    "    with sqlite3.connect('chats.db') as con:\n",
    "        cursor = con.cursor()\n",
    "        cursor.execute('INSERT INTO chats (ID, group) VALUES (?, ?)',\n",
    "                       (chat_id, group))\n",
    "        con.commit()"
   ]
  },
  {
   "cell_type": "code",
   "execution_count": 11,
   "id": "a483ca6b",
   "metadata": {},
   "outputs": [],
   "source": [
    "def normal(st_group):\n",
    "    groups = defaultdict()\n",
    "    for elem in st_group:\n",
    "        chat_id = elem[1]\n",
    "        group = elem[2]\n",
    "        groups[group] = chat_id\n",
    "    return groups\n",
    "    \n",
    "def choose_group():\n",
    "    with sqlite3.connect('chats') as con:\n",
    "        cursor = con.cursor()\n",
    "        cursor.execute('SELECT * FROM chats')\n",
    "        groups = normal(cursor.fetchall())\n",
    "    return groups"
   ]
  },
  {
   "cell_type": "code",
   "execution_count": null,
   "id": "664cd30b",
   "metadata": {},
   "outputs": [],
   "source": [
    "while True:\n",
    "    \n",
    "    try:\n",
    "        for event in longpoll.listen():\n",
    "            if event.type == VkBotEventType.MESSAGE_NEW:\n",
    "                text = event.object['text'].lower()\n",
    "                peer_id = event.obj.peer_id\n",
    "        \n",
    "                if event.from_user:#Если написали в ЛС\n",
    "                    user_id = event.object['from_id']\n",
    "                    \n",
    "                    if text == 'начать':\n",
    "                        keyboard_start = VkKeyboard(one_time = False, inline = True)\n",
    "                        keyboard_start.add_button('Добавить беседу', VkKeyboardColor.POSITIVE)\n",
    "                        keyboard_start.add_line()\n",
    "                        keyboard_start.add_button('Отправить сообщение', VkKeyboardColor.SECONDARY)\n",
    "\n",
    "                        send_message_to_user(user_id, peer_id, 'Что сделать?', keyboard_start)\n",
    "\n",
    "                    elif text == 'отправить сообщение':\n",
    "                        chosen_groups = []\n",
    "                        keyboard_choose_group = VkKeyboard(one_time = False)\n",
    "                        groups = choose_group()\n",
    "                        for elem in groups:\n",
    "                            keyboard_choose_group.add_button(elem[1])\n",
    "                        keyboard_choose_group.add_button('Всё выбрано')\n",
    "                        send_message_to_user(user_id, peer_id, 'Выберите группу', keyboard_choose_group)\n",
    "\n",
    "                    elif text in list(groups.keys()):\n",
    "                        chosen_groups.append(groups[text])\n",
    "                        send_message(user_id, peer_id, 'Ещё одну?', keyboard_choose_group)\n",
    "                    elif text == 'Всё выбрано':\n",
    "                        send_message_to_user(user_id, peer_id, 'Введите сообщение')\n",
    "                        for event in VkBotLongPoll(session).listen():\n",
    "                            if event.type == VkBotEventType.MESSAGE_NEW:\n",
    "                                text = event.object['text'].lower()\n",
    "                                user_id = event.object['from_id']\n",
    "                        for elem in chosen_groups:\n",
    "                            send_message_to_user(elem, peer_id, text)\n",
    "\n",
    "                     \n",
    "\n",
    "\n",
    "                elif event.from_chat:\n",
    "                    chat_id = event.chat_id\n",
    "                    if text == 'регистрация':\n",
    "                        keyboard_reg = VkKeyboard(one_time = False, inline = True)\n",
    "                        keyboard_reg.add_button('БЭК204', VkKeyboardColor.POSITIVE)\n",
    "                        keyboard_reg.add_line()\n",
    "                        keyboard_reg.add_button('БЭК201', VkKeyboardColor.SECONDARY)\n",
    "\n",
    "                        send_message_to_chat(chat_id, peer_id, 'Выберите свою группу', keyboard_reg)\n",
    "            \n",
    "#             if event.type == VkBotEventType.MESSAGE_EVENT: #callback-кнопки   \n",
    "#                 print(event)\n",
    "                    \n",
    "                    \n",
    "                    \n",
    "                    elif text == f'@{group_name_short}'+ ' бэк204':\n",
    "                        \n",
    "                        group = 'БЭК204'\n",
    "                        add_group(chat_id, group)\n",
    "                        send_message_to_chat(chat_id, peer_id, 'Принято')\n",
    "\n",
    "                    elif text == 'бэк201':\n",
    "                        group = 'БЭК201'\n",
    "                        add_group(chat_id, group)\n",
    "                        send_message_to_chat(chat_id, peer_id, 'Принято')\n",
    "\n",
    "                        print(chats)\n",
    "\n",
    "                \n",
    "    except requests.exceptions.ReadTimeout as timeout:\n",
    "        continue          \n",
    "                \n",
    "#         elif event.from_chat: #Если написали в Беседе\n",
    "#             chat_id = event.chat_id\n",
    "#             if text = 'Зарегистрировать беседу': #ветка с регистрацией в БД\n",
    "                "
   ]
  },
  {
   "cell_type": "code",
   "execution_count": null,
   "id": "ee6e56ef",
   "metadata": {},
   "outputs": [],
   "source": [
    "# if event_chat.type"
   ]
  },
  {
   "cell_type": "code",
   "execution_count": null,
   "id": "38da5b67",
   "metadata": {},
   "outputs": [],
   "source": [
    "event.type == VkBotEventType.MESSAGE_EVENT"
   ]
  }
 ],
 "metadata": {
  "kernelspec": {
   "display_name": "Python 3",
   "language": "python",
   "name": "python3"
  },
  "language_info": {
   "codemirror_mode": {
    "name": "ipython",
    "version": 3
   },
   "file_extension": ".py",
   "mimetype": "text/x-python",
   "name": "python",
   "nbconvert_exporter": "python",
   "pygments_lexer": "ipython3",
   "version": "3.8.8"
  }
 },
 "nbformat": 4,
 "nbformat_minor": 5
}
